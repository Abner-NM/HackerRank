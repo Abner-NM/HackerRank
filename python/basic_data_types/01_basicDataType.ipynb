{
 "cells": [
  {
   "attachments": {},
   "cell_type": "markdown",
   "metadata": {},
   "source": [
    "# HackerRank Python Practice\n",
    "\n",
    "## 1. Finding the Percentage\n",
    "\n",
    "- The provided code stub will read in a dictionary containing key/value pairs of name:[marks] for a list of students. Print the average of the marks array for the student name provided, showing 2 places after the decimal.\n",
    "\n",
    "### Input Format\n",
    "\n",
    "The first line contains the integer , the number of students' records. The next  lines contain the names and marks obtained by a student, each value separated by a space. The final line contains **query_name**, the name of a student to query.\n",
    "\n",
    "### Output Format\n",
    "\n",
    "Print one line: The average of the marks obtained by the particular student correct to 2 decimal places.\n",
    "\n",
    "#### Sample Input 0\n",
    "```\n",
    "3\n",
    "Krishna 67 68 69\n",
    "Arjun 70 98 63\n",
    "Malika 52 56 60\n",
    "Malika\n",
    "```\n",
    "\n",
    "#### Sample Input 0\n",
    "```56.00```\n",
    "\n",
    "#### Explanation\n",
    "Marks for Malika are {52, 56, 60}  whose average is (52 + 56 + 60)/ 3 = 56.00\n"
   ]
  },
  {
   "cell_type": "code",
   "execution_count": null,
   "metadata": {},
   "outputs": [],
   "source": [
    "# Pseudocode\n",
    "if __name__ == '__main__':\n",
    "\tn = int(input())\n",
    "\tstudent_marks = {}\n",
    "\tfor _ in range(n):\n",
    "\t\tname, *line = input().split()\n",
    "\t\tscores = list(map(float, line))\n",
    "\t\tstudent_marks[name] = scores\n",
    "\tquery_name = input()"
   ]
  }
 ],
 "metadata": {
  "language_info": {
   "name": "python"
  },
  "orig_nbformat": 4
 },
 "nbformat": 4,
 "nbformat_minor": 2
}
