{
 "cells": [
  {
   "attachments": {},
   "cell_type": "markdown",
   "metadata": {},
   "source": [
    "# HackerRank Python Practice\n",
    "\n",
    "## 1. Finding the Percentage\n",
    "\n",
    "- The provided code stub will read in a dictionary containing key/value pairs of name:[marks] for a list of students. Print the average of the marks array for the student name provided, showing 2 places after the decimal.\n",
    "\n",
    "### Input Format\n",
    "\n",
    "The first line contains the integer , the number of students' records. The next  lines contain the names and marks obtained by a student, each value separated by a space. The final line contains **query_name**, the name of a student to query.\n",
    "\n",
    "### Output Format\n",
    "\n",
    "Print one line: The average of the marks obtained by the particular student correct to 2 decimal places.\n",
    "\n",
    "#### Sample Input 0\n",
    "```\n",
    "3\n",
    "Krishna 67 68 69\n",
    "Arjun 70 98 63\n",
    "Malika 52 56 60\n",
    "Malika\n",
    "```\n",
    "\n",
    "#### Sample Input 0\n",
    "```56.00```\n",
    "\n",
    "#### Explanation\n",
    "Marks for Malika are {52, 56, 60}  whose average is (52 + 56 + 60)/ 3 = 56.00\n"
   ]
  },
  {
   "attachments": {},
   "cell_type": "markdown",
   "metadata": {},
   "source": [
    "### PseudoCode\n",
    "- Enter number of students ```n```\n",
    "- Initialize an empty dictionary, student_marks\n",
    "- input the student information and add it to the dictionary\n",
    "- Determine the average marks obtained by a student"
   ]
  },
  {
   "cell_type": "code",
   "execution_count": 1,
   "metadata": {},
   "outputs": [
    {
     "name": "stdout",
     "output_type": "stream",
     "text": [
      "26.50\n",
      "Averga Score for Harsh is = 26.50\n"
     ]
    }
   ],
   "source": [
    "if __name__ == '__main__':\n",
    "\tn = int(input())\n",
    "\tstudent_marks = {}\n",
    "\tfor i in range(n):\n",
    "\t\tname, *line = input().split()\n",
    "\t\tscores = list(map(float, line))\n",
    "\t\tstudent_marks[name] = scores\n",
    "\tquery_name = input()\n",
    "\tmarks = student_marks[query_name]\n",
    "\ttotal = sum(marks)\n",
    "\tavg = total / len(marks)\n",
    "\tr_avg = round(avg, 2)\n",
    "\tformatted_avg = \"{:.2f}\".format(r_avg)\n",
    "\tprint(f\"Averga Score for {query_name} is = {formatted_avg}\")"
   ]
  }
 ],
 "metadata": {
  "kernelspec": {
   "display_name": "Python 3",
   "language": "python",
   "name": "python3"
  },
  "language_info": {
   "codemirror_mode": {
    "name": "ipython",
    "version": 3
   },
   "file_extension": ".py",
   "mimetype": "text/x-python",
   "name": "python",
   "nbconvert_exporter": "python",
   "pygments_lexer": "ipython3",
   "version": "3.8.10"
  },
  "orig_nbformat": 4
 },
 "nbformat": 4,
 "nbformat_minor": 2
}
